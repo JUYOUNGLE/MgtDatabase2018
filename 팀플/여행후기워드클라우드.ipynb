{
 "cells": [
  {
   "cell_type": "code",
   "execution_count": 3,
   "metadata": {},
   "outputs": [
    {
     "ename": "ImportError",
     "evalue": "DLL load failed: 지정된 모듈을 찾을 수 없습니다.",
     "output_type": "error",
     "traceback": [
      "\u001b[1;31m---------------------------------------------------------------------------\u001b[0m",
      "\u001b[1;31mImportError\u001b[0m                               Traceback (most recent call last)",
      "\u001b[1;32m<ipython-input-3-bb68b54bc5da>\u001b[0m in \u001b[0;36m<module>\u001b[1;34m()\u001b[0m\n\u001b[0;32m      1\u001b[0m \u001b[1;32mimport\u001b[0m \u001b[0mnumpy\u001b[0m \u001b[1;32mas\u001b[0m \u001b[0mnp\u001b[0m\u001b[1;33m\u001b[0m\u001b[0m\n\u001b[0;32m      2\u001b[0m \u001b[1;32mimport\u001b[0m \u001b[0mrandom\u001b[0m\u001b[1;33m\u001b[0m\u001b[0m\n\u001b[1;32m----> 3\u001b[1;33m \u001b[1;32mfrom\u001b[0m \u001b[0mPIL\u001b[0m \u001b[1;32mimport\u001b[0m \u001b[0mImage\u001b[0m\u001b[1;33m\u001b[0m\u001b[0m\n\u001b[0m\u001b[0;32m      4\u001b[0m \u001b[1;32mfrom\u001b[0m \u001b[0mwordcloud\u001b[0m \u001b[1;32mimport\u001b[0m \u001b[0mWordCloud\u001b[0m\u001b[1;33m,\u001b[0m \u001b[0mSTOPWORDS\u001b[0m\u001b[1;33m\u001b[0m\u001b[0m\n\u001b[0;32m      5\u001b[0m \u001b[1;32mfrom\u001b[0m \u001b[0mpalettable\u001b[0m\u001b[1;33m.\u001b[0m\u001b[0mcolorbrewer\u001b[0m\u001b[1;33m.\u001b[0m\u001b[0mqualitative\u001b[0m \u001b[1;32mimport\u001b[0m \u001b[0mDark2_8\u001b[0m\u001b[1;33m\u001b[0m\u001b[0m\n",
      "\u001b[1;32mC:\\MgtDatabase2018\\lib\\site-packages\\PIL\\Image.py\u001b[0m in \u001b[0;36m<module>\u001b[1;34m()\u001b[0m\n\u001b[0;32m     58\u001b[0m     \u001b[1;31m# Also note that Image.core is not a publicly documented interface,\u001b[0m\u001b[1;33m\u001b[0m\u001b[1;33m\u001b[0m\u001b[0m\n\u001b[0;32m     59\u001b[0m     \u001b[1;31m# and should be considered private and subject to change.\u001b[0m\u001b[1;33m\u001b[0m\u001b[1;33m\u001b[0m\u001b[0m\n\u001b[1;32m---> 60\u001b[1;33m     \u001b[1;32mfrom\u001b[0m \u001b[1;33m.\u001b[0m \u001b[1;32mimport\u001b[0m \u001b[0m_imaging\u001b[0m \u001b[1;32mas\u001b[0m \u001b[0mcore\u001b[0m\u001b[1;33m\u001b[0m\u001b[0m\n\u001b[0m\u001b[0;32m     61\u001b[0m     \u001b[1;32mif\u001b[0m \u001b[0mPILLOW_VERSION\u001b[0m \u001b[1;33m!=\u001b[0m \u001b[0mgetattr\u001b[0m\u001b[1;33m(\u001b[0m\u001b[0mcore\u001b[0m\u001b[1;33m,\u001b[0m \u001b[1;34m'PILLOW_VERSION'\u001b[0m\u001b[1;33m,\u001b[0m \u001b[1;32mNone\u001b[0m\u001b[1;33m)\u001b[0m\u001b[1;33m:\u001b[0m\u001b[1;33m\u001b[0m\u001b[0m\n\u001b[0;32m     62\u001b[0m         raise ImportError(\"The _imaging extension was built for another \"\n",
      "\u001b[1;31mImportError\u001b[0m: DLL load failed: 지정된 모듈을 찾을 수 없습니다."
     ]
    }
   ],
   "source": [
    "import numpy as np\n",
    "import random\n",
    "from PIL import Image\n",
    "from wordcloud import WordCloud, STOPWORDS\n",
    "from palettable.colorbrewer.qualitative import Dark2_8\n",
    "from sklearn.feature_extraction.text import CountVectorizer\n",
    "import matplotlib.pyplot as plt\n",
    "%matplotlib inline"
   ]
  },
  {
   "cell_type": "code",
   "execution_count": 5,
   "metadata": {},
   "outputs": [],
   "source": [
    "def color_func(word, font_size, position, orientation, random_state=None, **kwargs):\n",
    "    return tuple(Dark2_8.colors[random.randint(0,7)])\n",
    "\n",
    "font = \"NanumPen\"\n",
    "font_path = \"%s.ttf\" % font\n",
    "\n",
    "icon = \"airbnb-logo\" \n",
    "icon_path = \"%s.png\" % icon"
   ]
  },
  {
   "cell_type": "code",
   "execution_count": 7,
   "metadata": {},
   "outputs": [
    {
     "name": "stdout",
     "output_type": "stream",
     "text": [
      "경복궁은 유명한 관광명소라서 외국인들과 한국인 관광객들이 수시로 드나든다. 그래서 그런지 북적북적 하는데 막상 안에서 들어가보면 볼게 그다지 많다고 느껴지지는 않는다. 물론 여러가지 건물들이 있고 그 건물들이 각자의 역할을 하는게 설명이 되어 있지만 와닿지는 않는다. 입장료를 5천원 정도로 받고 각자의 건물에다가 밀랍인형이나 아니면 더 설명을 원할히 할 수 있게 미니어처를 제작하던지 다른 요소를 추가하면 좋을 듯 싶다.\n",
      "\n",
      "전통과 어우러진 음악과 조명이 인상깊었다. 모든 감각을 즐겁게 해 준 보석같은 행사같다. 매년 야간개장 티켓을 구하기 어려운 이유를 알겠다.늘 서울에 살아서 느낌이 없는 감이 있지만 고층건물 숲과 대비를 이루는 경복궁은 서울의 보물인거 같습니다. 아이 데리고 가기에도 주차장이 궁내에 있어서 편리하구요, 다만 편의시설이 좀더 다양해졌으면 좋겠습니다.경치가 아름다워요\n",
      "청와대랑 가까운 후문을통해서 관람하는거 추천합니다.아이들에게 역사와 문화를 알게 해주는 중요한 유산인곳같습니다.평일 낮에는 한가로이 구경 가능합니다.\n",
      "찬찬히 돌아다니며 보면 좋습니다.\n",
      "한복 입으면 무료입장인데, 한복 입고 사진 찍으면 멋지게 나오는 것 같네요~한복을 입으면 입장료가 무료라 한복을 입고 궁궐 산책을 하는 사람들이 많습니다. 살구꽃, 벚꽃, 미선나무 등 아름다운 꽃들이 궁과 잘 어울립니다.이곳은 역사 그 자체입니다. 그리고 이곳에 얽힌 이야기가 굉장히 많으니 공부를 할때 마다 다르게 보일 겁니다.외국손님이 와서 방문도하고 친구끼리도 가서 산책도하고 언제가도 좋아요~ 관광객이 너무 많을땐 좀 정신없기도하지만 안쪽으로 들어가서 다니다보면 분산돼서 괜찮더라구요. 나와서 삼청동이나 서촌쪽에서 맛난거 먹는것도 덤으로 있구요경복궁 한바퀴 천천히 여유있게 걸으면 마치 내가 왕이 된 느낌이 납니다. 다만 바닥에 모래가 많으니 신발 더럽혀 지지 않도록 조심하세요.특히 야경이 정말 기가 막힙니다. 외국인은 티켓구매할 수있으니 꼭 야경도 구경하세요 도심 속에서 이런 궁을 볼 수 있다는 건 한국의 자랑입니다.여러번 야간개장 방문을 준비하다 겨우 가 볼수 있었습니다.\n",
      "웅장하고, 화려할꺼라 예상했는데, 생각보다는 감동이 적었습니다.\n",
      "경주 안압지 야경이 더 좋았던것 같네요.서울 중심부에 있어서 가볍게 나들이가듯이 갈 수 있는 곳.\n",
      "요새는 한복입고 사진찍는 사람들이 많아서 더 예쁘게 느껴지는 곳.\n",
      "특히 경희궁 쪽이 너무 예뻐서 갈때마다 벤치에 앉아서 한참을 멍때리면서 보다가 옴.낮에도 좋지만 야간개장할때 가면 더 좋습니다\n",
      "경회루가 가장 좋았어요 \n",
      "이런저런 공연도 자주합니다경복궁은 야간개장을 하는데 그때 꼭 한번 방문하셔서 둘러보시기를 추천합니다 낮에보는것과 또다른매력을 느낄수있어요과거로 돌아간 느낌을 주는 곳. 도심과 가까워 접근도 쉽다. 한달에한번 마지막주 수요일 무료입장.가능하다면 야간입장을 한번 꼭 보시는 것을 추천드립니다!\n",
      "낮에보는 경복궁이랑은 또 다른 모습이에요!만 25세 미만은 청소년으로 분류되서 무료 입장이니 참고하세요. 한복은 남녀 복장에 맞게 입고 가야 무료 남자가 여자옷 X 여자가 남자옷 X규모가 매우 크기 때문에 하나하나 둘러 보려면 한나절은 걸림\n",
      "그늘이 적고 앉아서 쉴 곳이 부족함지방에서 미리 예약하지 못해 한복무료입장권으로 급하게 구했습니다. 딸들이 한복을 빌려입히니 예쁘다고 좋아해서 오히려 잘했다 싶었습니다. 그리고 야간개장 공연도 좋았어요.야간이 매우 아름답습니다. 날씨가 좋은 날에는 이보다 더 아름다울수가 없습니다. 석양이 지는 날에도 눈에 내리는 날에도 아름답지 않은 날이 없습니다. 다만 여름엔 그늘이 많지 않아 매우 더울수 있습니다.자랑스러운 서울의 관광명소 경복궁. 한복을 입고 들어가시면 무료입장인걸로 알고 있어요 :)도시 한가운데에 이런 고궁이 있다는것은 정말 축복받은 것이라고 생각됩니다. 다만, 몇몇 (소수라기엔 많은..) 관람객들의 눈쌀 찌푸려지는 행동은 없어졌으면 합니다.서울에 대표 관광코스 유니클로 스파오 자라등 유명 브랜드건물이 곳곳에 위치 쇼핑의 메카라고 할수있는곳 맛집 카페등도 많아 휴식을 취하기도 좋은곳서울 명동을 쇼핑의 천국이라고 하는 사람도 있지만 실상 가보면 그닥입니다.\n",
      "백화점에서 파는 가격과 거의 차이도 없고 너무 노점이 많아서 걷기 불편합니다.\n",
      "식당가나 카페가 있어 다니다 가기 편하기는 하지만 차라리 백화점 가는 게 나을 것 같네요.한 지역에서 음식점도 많고 간식들도 많고\n",
      "화장품가게며 백화점 각종 쇼핑 할 곳도 많은건\n",
      "정말 좋아요\n",
      "근데 가격이 상향평준화 되어있는 듯중국인,일본인 많은 동네\n",
      "키조개 즉석구이랑\n",
      "랍스터 즉석구이가 젤 낫고 \n",
      "나머진 걍 길거리음식\n",
      "명동칼국수는 괘안음안가본 사람있으면 당장 가보세요~\n",
      "소소한 쇼핑거리가 짱!!\n",
      "길거리 음식도 짱!!!\n",
      "북적대는 분위기가 흥이 납니다~~중국인들을 위한 명동쇼핑거리로 변해가고 있습니다.그래도 쇼핑하기에는 제격이고 해외여행가기전에 면세점이 많아 자주갔습니다.명동하면 수많은 화장품가게와 거리에서 파는 맛있는 간식과 천원짜리 캐릭터 양말을 생각할수있다. 대부분의 화장품가게들은 사후면세점이며 외국인의 경우 영수증을 소지하고 나중에 환급 받을 수 있다.서울에 거주하지 않는 사람들이 놀러왔다 했을때 아무튼 꼭 들러야 하는 코스같은 홍대앞. 지금은 대기업에 점유되어 특유의 예술색이 많이 죽었지만 그래도 아직은 홍대앞이라고하면 젊음의 거리라는 이미지가 붙는다. 상수합정까지 엄청난 넓이를 몽땅 통틀어 홍대앞으로 만들어버린 대단한 지역이다.맛집이 많고 활기찬 분위기여서 쇼핑, 식사 등 좋습니다. 길거리 공연도 해서 주말 쇼핑겸 유흥즐기기에 좋습니다.먹고 마시고 쇼핑할 수 있는 곳이에요, 거리에선 종종 버스킹하는 가수들을 볼 수 있고요, 보세옷, 맛있는 디저트 카페 등이 있는 골목들이 연결되어 있어요. 북쪽으로 걸어가면 경의선숲길 공원에서 산책하거나 잔디에 앉아 맥주 한잔 마실 수 있고요, 홍대 쪽으로 올라가면 클럽 등도 즐길 수 있습니다. 친구들과 함께 가야 즐거운 곳이에요.한국에 명소라고 하기에는 내세울 무언가가 없는 듯 합니다\n",
      "한국사람 구경은 적합하겠네요.\n",
      "특유 버스킹 문화도 점점 시들해지는 듯 하구요.버스커들이 많았는데 좀 그 간격이 되게 좁다는 느낌이었습니다. 서로 공연 범위가 겹쳐서 소리가 겹친다거나 사람들이 많이 몰려 비좁고...그래도 볼거 많고 흥미로웠습니다.홍대앞을 거닐면, 여기저기 볼것도 많고 먹거리도 많은 곳이네요~\n",
      "사람들이 많아서 구경할 것도 많고 말이죠~\n",
      "유흥 즐기기에 최고이지만 연령도 중요 , 가는 요일도 중요합니다. 20대 초중반이라면 추천! ㅋ젊음의거리라는 타이틀이걸린만큼 언제나 활발하고 신나게 버스킹도이루어지고 맛집도\n",
      "많은곳입니다 그만큼사람이많지만 젊음을즐기기엔 최고!글쎄 매우 크게 호불호가 갈릴 지역이다. 조용하고 깨긋하며 평화로운 걸 좋아하면 가지말자. ㅋㅋ역동적이고 시끄럽고 뭔가 항상 사건 사고가 일어나는 걸 좋아하면 꼭 가서 클럽과 파티와 밤문화와 맛집을 즐기자.홍대입구 근처에 잇는 카카오프렌드 샵. \n",
      "카카오프렌드 여기 카카오톡 기념품 인형등 볼펜 우산 보조배터리등 상당히 많이 팝니다. \n",
      "홍대입구역에 나와서 멀지 않은 곳에 중국전자제품 화웨이 코리아 매장이 보입니다. 화웨이 보조배터리 하나 삿던기억이 나네요. 華爲라는 한자 뜻의 화웨이. \n",
      "중국제라 좀 저렴한 축에 들어갑니다. 항상 사람이 많음 주변에 먹을거리 놀거리는 많지만 딱히 가고 싶지는 않음. \n",
      "하지만 막상 가면 재밌게 놈젊은이의거리라서 대학생들이 너무많아서 주말에는 혼잡해요.그리고 밤이되면 외극인이랑 크러버들때문에 쓰레기천국이됩니다.낮에 커피한잔하면서구경하기는좋아요홍대는 한국의 젊음을 느끼기 최고 입니다. 요즘은 가까운 연남동이나 상수동도 좋더라구요 조용한 커피숍 차한잔 하는 것 추천합니다.맛집, 옷가게도 많고 버스킹하시는 분들도 많아 신나고 젊은 분위기를 느낄 수 있어요~\n",
      "홍대까지 가는 길에는 프렌차이즈 가게가 대부분이라\n",
      "유니크한 카페, 맛집을 원하신다면 상수쪽으로 가시길 추천합니다!홍대는 언제부턴가 젊음의거리? 언제나가면 활기가넘치는곳같아요 볼거리 즐길거리 먹을거리도넘쳐나는 곳수많은 레스토랑들과 까페들을 볼 수 있는 곳, 그리고 거리에서 많은 공연들이 있으니 꼭 방문해 보세요.여기는 낮이나 밤이나 항상 사람이 많아요딱히 뭐가 있는건 아니지만 그냥 공연도 하고 헤나 같은 것도 하는 곳이 많아서 구경하기 좋고 젊음이 느껴지는 거리라 생각되요\n",
      "낮에도 좋고 밤에도 좋아요 목적에 따라 방문하시면 됩니다\n",
      "\n",
      "젊음의 거리 홍대에서는 역동적인 한국을 느낄 수 있답니다. 버스킹 공연도 하고 다양한 펍과 레스토랑이 있으니 맛있는 식사와 문화를 즐겨보세요!\n"
     ]
    }
   ],
   "source": [
    "f = open( \"review.txt\", \"r\")\n",
    "message_of_ab = f.read()\n",
    "print(message_of_ab)\n",
    "f.close()"
   ]
  },
  {
   "cell_type": "code",
   "execution_count": 9,
   "metadata": {},
   "outputs": [
    {
     "ename": "NameError",
     "evalue": "name 'CountVectorizer' is not defined",
     "output_type": "error",
     "traceback": [
      "\u001b[1;31m---------------------------------------------------------------------------\u001b[0m",
      "\u001b[1;31mNameError\u001b[0m                                 Traceback (most recent call last)",
      "\u001b[1;32m<ipython-input-9-7ff782a6065f>\u001b[0m in \u001b[0;36m<module>\u001b[1;34m()\u001b[0m\n\u001b[1;32m----> 1\u001b[1;33m \u001b[0mtf_vectorizer\u001b[0m \u001b[1;33m=\u001b[0m \u001b[0mCountVectorizer\u001b[0m\u001b[1;33m(\u001b[0m\u001b[0mmin_df\u001b[0m \u001b[1;33m=\u001b[0m \u001b[1;36m0.001\u001b[0m\u001b[1;33m,\u001b[0m \u001b[0mtoken_pattern\u001b[0m\u001b[1;33m=\u001b[0m\u001b[1;34mr'\\w{2,}'\u001b[0m\u001b[1;33m)\u001b[0m\u001b[1;33m\u001b[0m\u001b[0m\n\u001b[0m\u001b[0;32m      2\u001b[0m \u001b[1;33m\u001b[0m\u001b[0m\n\u001b[0;32m      3\u001b[0m \u001b[0mtf_corpus1\u001b[0m \u001b[1;33m=\u001b[0m \u001b[0mtf_vectorizer\u001b[0m\u001b[1;33m.\u001b[0m\u001b[0mfit\u001b[0m\u001b[1;33m(\u001b[0m\u001b[0mmessage_of_ab\u001b[0m\u001b[1;33m)\u001b[0m\u001b[1;33m\u001b[0m\u001b[0m\n\u001b[0;32m      4\u001b[0m \u001b[0mtf_bow1\u001b[0m \u001b[1;33m=\u001b[0m \u001b[0mtf_vectorizer\u001b[0m\u001b[1;33m.\u001b[0m\u001b[0mfit_transform\u001b[0m\u001b[1;33m(\u001b[0m\u001b[0mmessage_of_ab\u001b[0m\u001b[1;33m)\u001b[0m\u001b[1;33m\u001b[0m\u001b[0m\n\u001b[0;32m      5\u001b[0m \u001b[0mtf_bow1\u001b[0m\u001b[1;33m\u001b[0m\u001b[0m\n",
      "\u001b[1;31mNameError\u001b[0m: name 'CountVectorizer' is not defined"
     ]
    }
   ],
   "source": [
    "tf_vectorizer = CountVectorizer(min_df = 0.001, token_pattern=r'\\w{2,}')\n",
    "\n",
    "tf_corpus1 = tf_vectorizer.fit(message_of_ab)\n",
    "tf_bow1 = tf_vectorizer.fit_transform(message_of_ab)\n",
    "tf_bow1"
   ]
  },
  {
   "cell_type": "code",
   "execution_count": null,
   "metadata": {},
   "outputs": [],
   "source": [
    "print(len(tf_corpus1.vocabulary_))\n",
    "print(len(tf_corpus1.get_feature_names()))\n",
    "tf_vectorizer.get_feature_names()"
   ]
  },
  {
   "cell_type": "code",
   "execution_count": null,
   "metadata": {},
   "outputs": [],
   "source": [
    "tf_word_sum1 = tf_bow1.toarray().sum(axis=0)\n",
    "tf_word_name1 = tf_corpus1.get_feature_names()\n",
    "tf_word_dict1 = {}\n",
    "\n",
    "for i in range(len(tf_word_sum1)):\n",
    "    tf_word_dict1[tf_word_name1[i]] = tf_word_sum1[i]\n",
    "    \n",
    "print(tf_corpus1.get_feature_names())\n",
    "tf_word_sum1"
   ]
  },
  {
   "cell_type": "code",
   "execution_count": null,
   "metadata": {},
   "outputs": [],
   "source": [
    "tf_word_dict1"
   ]
  },
  {
   "cell_type": "code",
   "execution_count": null,
   "metadata": {},
   "outputs": [],
   "source": [
    "\n",
    "# 연설문 1# 연설문 1\n",
    " iconicon  ==  ImageImage..openopen((icon_pathicon_pat ).convert(\"RGBA\")\n",
    "mask = Image.new(\"RGB\", icon.size, (255,255,255))\n",
    "mask.paste(icon,icon)\n",
    "mask = np.array(mask)\n",
    "\n",
    "wc = WordCloud(font_path=font_path, background_color=\"white\", max_words=2000, mask=mask,\n",
    "               max_font_size=300, random_state=42).generate_from_frequencies(tf_word_dict1)\n",
    "\n",
    "plt.figure(figsize=(15, 45))\n",
    "plt.imshow(wc, interpolation=\"bilinear\")\n",
    "plt.axis(\"off\")\n",
    "plt.show()\n",
    "wc.to_file(\"AirBnb_review.png\")"
   ]
  },
  {
   "cell_type": "code",
   "execution_count": null,
   "metadata": {},
   "outputs": [],
   "source": []
  },
  {
   "cell_type": "code",
   "execution_count": null,
   "metadata": {},
   "outputs": [],
   "source": []
  }
 ],
 "metadata": {
  "kernelspec": {
   "display_name": "Python 3",
   "language": "python",
   "name": "python3"
  },
  "language_info": {
   "codemirror_mode": {
    "name": "ipython",
    "version": 3
   },
   "file_extension": ".py",
   "mimetype": "text/x-python",
   "name": "python",
   "nbconvert_exporter": "python",
   "pygments_lexer": "ipython3",
   "version": "3.6.5"
  }
 },
 "nbformat": 4,
 "nbformat_minor": 2
}
