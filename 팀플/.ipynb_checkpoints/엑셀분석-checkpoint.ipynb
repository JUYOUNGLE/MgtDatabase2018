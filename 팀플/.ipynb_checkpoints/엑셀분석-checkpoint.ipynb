{
 "cells": [
  {
   "cell_type": "markdown",
   "metadata": {},
   "source": [
    "## 엑셀 분석"
   ]
  },
  {
   "cell_type": "markdown",
   "metadata": {},
   "source": [
    "- 외국인 관광객의 3년 내 한국 관광 재방문 의사 중 '그렇다', '매우 그렇다'라고 응답한 비율은 아래와 같다.\n",
    "- ▲2011년 (77.6%) ▲2012년 (84.6%) ▲2013년 (84.3%) ▲2014년 (85.4%) ▲2015년 (85.6%) ▲2016년 (84.1%)\n",
    "- 2011년에서 2012년으로 넘어갈 때 한국 관광 재방문 의사가 눈에 띄게 높아졌고, 2015년까지 상승세를 기록했으나 2016년에 소폭 하락하였다.\n",
    "-![추이](추이2.jpg)"
   ]
  },
  {
   "cell_type": "markdown",
   "metadata": {},
   "source": [
    "- 총지출경비 자료로 평균지출경비, 최대지출경비 분석(2016)\n",
    "    - 12003명의 평균 지출 경비는 1423.52 달러로 원화 약 154만원 이었다.\n",
    "    - 최대 지출 경비는 10717달러로 원화 1154만원 이었다.\n",
    "- 만족도, 재방문의사, 추천의사 응답의 각 문항 별 인원 수, 백분율 분석 (2013~2016)\n",
    "    - 대부분 보통이상의 만족도, 재방문의사, 추천의사를 가지고 있다.\n"
   ]
  },
  {
   "cell_type": "markdown",
   "metadata": {},
   "source": [
    "### 결론\n",
    "-   분석한 결과, 대다수의 외국인 관광객들이 국내여행에 대해 2011~2016년동안 만족한다고 응답하며 전반적으로 긍정적인 평가를 보였다. 이를 통해 중국 사드 보복으로 인해 중국인 관광객이 줄어든다고 해도 외국인 관광객의 선호도가 높으므로 손실을 상쇄시킬 수 있을 것으로 본다."
   ]
  },
  {
   "cell_type": "code",
   "execution_count": null,
   "metadata": {},
   "outputs": [],
   "source": []
  }
 ],
 "metadata": {
  "kernelspec": {
   "display_name": "Python 3",
   "language": "python",
   "name": "python3"
  },
  "language_info": {
   "codemirror_mode": {
    "name": "ipython",
    "version": 3
   },
   "file_extension": ".py",
   "mimetype": "text/x-python",
   "name": "python",
   "nbconvert_exporter": "python",
   "pygments_lexer": "ipython3",
   "version": "3.6.5"
  }
 },
 "nbformat": 4,
 "nbformat_minor": 2
}
