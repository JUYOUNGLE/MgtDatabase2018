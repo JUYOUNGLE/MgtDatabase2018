{
 "cells": [
  {
   "cell_type": "markdown",
   "metadata": {},
   "source": [
    "# 파이썬 기초3\n",
    "## 2. while문"
   ]
  },
  {
   "cell_type": "markdown",
   "metadata": {},
   "source": [
    "### 기본구조\n",
    "- 반복해서 사용할 때"
   ]
  },
  {
   "cell_type": "code",
   "execution_count": 1,
   "metadata": {},
   "outputs": [
    {
     "ename": "SyntaxError",
     "evalue": "invalid syntax (<ipython-input-1-bd1f283c67c2>, line 1)",
     "output_type": "error",
     "traceback": [
      "\u001b[1;36m  File \u001b[1;32m\"<ipython-input-1-bd1f283c67c2>\"\u001b[1;36m, line \u001b[1;32m1\u001b[0m\n\u001b[1;33m    while<조건문>:\u001b[0m\n\u001b[1;37m         ^\u001b[0m\n\u001b[1;31mSyntaxError\u001b[0m\u001b[1;31m:\u001b[0m invalid syntax\n"
     ]
    }
   ],
   "source": [
    "while<조건문>:\n",
    "    <수행할 문장1>\n",
    "    <수행할 문장1>"
   ]
  },
  {
   "cell_type": "code",
   "execution_count": 4,
   "metadata": {},
   "outputs": [
    {
     "name": "stdout",
     "output_type": "stream",
     "text": [
      "1 번 찍었습니다.\n",
      "2 번 찍었습니다.\n",
      "3 번 찍었습니다.\n",
      "4 번 찍었습니다.\n",
      "5 번 찍었습니다.\n",
      "6 번 찍었습니다.\n",
      "7 번 찍었습니다.\n",
      "8 번 찍었습니다.\n",
      "9 번 찍었습니다.\n",
      "10 번 찍었습니다.\n",
      "나무가 넘어갑니다.\n"
     ]
    }
   ],
   "source": [
    "# 열번찍어 안넘어 가는 나무 없다\n",
    "count=0 # 숫자를 0부터 세기 위함\n",
    "while count<10:\n",
    "    count=count+1\n",
    "    # 1-9번은 계속 나무를 찍자\n",
    "    print(\"{count} 번 찍었습니다.\".format(count=count))\n",
    "    # 열번찍으면 나무 넘어가게\n",
    "    if count==10:\n",
    "        print(\"나무가 넘어갑니다.\")"
   ]
  },
  {
   "cell_type": "markdown",
   "metadata": {},
   "source": [
    "### 사용자 선택 화면 만들기"
   ]
  },
  {
   "cell_type": "code",
   "execution_count": 18,
   "metadata": {},
   "outputs": [],
   "source": [
    "prompt = \"1. 추가\\n2. 삭제\\n3. 리스트\\n4. 나가기\\n\""
   ]
  },
  {
   "cell_type": "code",
   "execution_count": 19,
   "metadata": {},
   "outputs": [
    {
     "name": "stdout",
     "output_type": "stream",
     "text": [
      "1. 추가\n",
      "2. 삭제\n",
      "3. 리스트\n",
      "4. 나가기\n",
      "\n"
     ]
    }
   ],
   "source": [
    "print(prompt)"
   ]
  },
  {
   "cell_type": "code",
   "execution_count": 20,
   "metadata": {},
   "outputs": [
    {
     "name": "stdout",
     "output_type": "stream",
     "text": [
      "1. 추가\n",
      "2. 삭제\n",
      "3. 리스트\n",
      "4. 나가기\n",
      "\n",
      "1. 추가\n",
      "2. 삭제\n",
      "3. 리스트\n",
      "4. 나가기\n",
      "\n",
      "1. 추가\n",
      "2. 삭제\n",
      "3. 리스트\n",
      "4. 나가기\n",
      "\n"
     ]
    }
   ],
   "source": [
    "# 위 화면을 무한재생시킴\n",
    "number=0\n",
    "while number!=4: # 4를 안누른 동안에\n",
    "    print(prompt)\n",
    "    number=int(input())"
   ]
  },
  {
   "cell_type": "markdown",
   "metadata": {},
   "source": [
    "### while문 빠져나가기\n",
    "- break를 쓰면 강제로 멈춘다."
   ]
  },
  {
   "cell_type": "code",
   "execution_count": 22,
   "metadata": {},
   "outputs": [
    {
     "name": "stdout",
     "output_type": "stream",
     "text": [
      "커피 나온다.\n",
      "커피 나온다.\n",
      "커피 나온다.\n",
      "커피 나온다.\n",
      "커피 나온다.\n",
      "커피 나온다.\n",
      "커피 나온다.\n",
      "커피 나온다.\n",
      "커피 나온다.\n",
      "커피 나온다.\n",
      "커피가 없습니다.\n"
     ]
    }
   ],
   "source": [
    "coffee=10 # 자판기 커피 재고\n",
    "money=300 # 나한테 있는 돈\n",
    "while money:\n",
    "    print(\"커피 나온다.\")\n",
    "    coffee=coffee-1 # 커피 재고 감소\n",
    "    if not coffee: # 커피의 재고가 0이 되었을 때\n",
    "        print(\"커피가 없습니다.\")\n",
    "        break"
   ]
  },
  {
   "cell_type": "markdown",
   "metadata": {},
   "source": [
    "### 조건에 안맞는 경우 처음으로 돌아가기\n",
    "- continue"
   ]
  },
  {
   "cell_type": "code",
   "execution_count": 26,
   "metadata": {},
   "outputs": [
    {
     "name": "stdout",
     "output_type": "stream",
     "text": [
      "1\n",
      "3\n",
      "5\n",
      "7\n",
      "9\n"
     ]
    }
   ],
   "source": [
    "# 홀수 판결 프로그램\n",
    "a=0\n",
    "while a<10:\n",
    "    a=a+1\n",
    "    if a%2==0: continue # 짝수면 다시 처음으로 돌아감\n",
    "    print(a) # 홀수 일 때만 출력"
   ]
  },
  {
   "cell_type": "code",
   "execution_count": 23,
   "metadata": {},
   "outputs": [
    {
     "data": {
      "text/plain": [
       "1"
      ]
     },
     "execution_count": 23,
     "metadata": {},
     "output_type": "execute_result"
    }
   ],
   "source": [
    "3%2"
   ]
  },
  {
   "cell_type": "code",
   "execution_count": 24,
   "metadata": {},
   "outputs": [
    {
     "data": {
      "text/plain": [
       "0"
      ]
     },
     "execution_count": 24,
     "metadata": {},
     "output_type": "execute_result"
    }
   ],
   "source": [
    "4%2"
   ]
  },
  {
   "cell_type": "markdown",
   "metadata": {},
   "source": [
    "## 3. for문\n",
    "- while문과 비슷한 반복문인데, 좀 더 직관적임."
   ]
  },
  {
   "cell_type": "code",
   "execution_count": null,
   "metadata": {},
   "outputs": [],
   "source": [
    "for 변수 in 리스트 or 튜플 or 문자열: \n",
    "    "
   ]
  },
  {
   "cell_type": "code",
   "execution_count": 27,
   "metadata": {},
   "outputs": [
    {
     "name": "stdout",
     "output_type": "stream",
     "text": [
      "one\n",
      "two\n",
      "three\n"
     ]
    }
   ],
   "source": [
    "test_list={'one','two','three'}\n",
    "for i in test_list:\n",
    "    print(i)"
   ]
  },
  {
   "cell_type": "markdown",
   "metadata": {},
   "source": [
    "### for문 응용"
   ]
  },
  {
   "cell_type": "code",
   "execution_count": 29,
   "metadata": {},
   "outputs": [
    {
     "name": "stdout",
     "output_type": "stream",
     "text": [
      "합격!\n",
      "불합격!\n",
      "합격!\n",
      "불합격!\n",
      "합격!\n"
     ]
    }
   ],
   "source": [
    "scores=[90,25,67,45,80]\n",
    "\n",
    "for i in scores:\n",
    "    if i>=60:\n",
    "        print(\"합격!\")\n",
    "    else:\n",
    "        print(\"불합격!\")"
   ]
  },
  {
   "cell_type": "code",
   "execution_count": 34,
   "metadata": {},
   "outputs": [
    {
     "name": "stdout",
     "output_type": "stream",
     "text": [
      "90 합격!\n",
      "67 합격!\n",
      "80 합격!\n"
     ]
    }
   ],
   "source": [
    "scores=[90,25,67,45,80]\n",
    "\n",
    "for i in scores:\n",
    "    if i<=60: continue # 60점 보다 낮은 점수면 넘어가고 합격점수만 출력\n",
    "    print(i,\"합격!\")"
   ]
  },
  {
   "cell_type": "markdown",
   "metadata": {},
   "source": [
    "### for문과 자주 사용하는 함수"
   ]
  },
  {
   "cell_type": "code",
   "execution_count": 36,
   "metadata": {},
   "outputs": [
    {
     "name": "stdout",
     "output_type": "stream",
     "text": [
      "5\n",
      "6\n",
      "7\n",
      "8\n",
      "9\n"
     ]
    }
   ],
   "source": [
    "for i in range(5,10):\n",
    "    print(i)"
   ]
  },
  {
   "cell_type": "code",
   "execution_count": 37,
   "metadata": {},
   "outputs": [
    {
     "data": {
      "text/plain": [
       "5"
      ]
     },
     "execution_count": 37,
     "metadata": {},
     "output_type": "execute_result"
    }
   ],
   "source": [
    "len(scores) # 5개 짜리 공간이다"
   ]
  },
  {
   "cell_type": "code",
   "execution_count": 38,
   "metadata": {},
   "outputs": [
    {
     "data": {
      "text/plain": [
       "range(0, 5)"
      ]
     },
     "execution_count": 38,
     "metadata": {},
     "output_type": "execute_result"
    }
   ],
   "source": [
    "range(len(scores))"
   ]
  },
  {
   "cell_type": "markdown",
   "metadata": {},
   "source": [
    "## for문 lab\n",
    "### 좋아하는 과일 6개를 fruits라는 변수에 리스트로 지정하시오.\n",
    "- 모든 6개 과일을 한 줄씩 출력하시오."
   ]
  },
  {
   "cell_type": "code",
   "execution_count": 46,
   "metadata": {},
   "outputs": [
    {
     "name": "stdout",
     "output_type": "stream",
     "text": [
      "아보카도\n",
      "사과\n",
      "딸기\n",
      "복숭아\n",
      "오렌지\n",
      "토마토\n"
     ]
    }
   ],
   "source": [
    "fruits=[\"아보카도\",\"사과\",\"딸기\",\"복숭아\",\"오렌지\",\"토마토\"]\n",
    "for fruit in fruits:\n",
    "    print(fruit)"
   ]
  },
  {
   "cell_type": "code",
   "execution_count": 47,
   "metadata": {},
   "outputs": [
    {
     "name": "stdout",
     "output_type": "stream",
     "text": [
      "['아보카도', '사과', '딸기', '복숭아', '오렌지', '토마토', '파인애플']\n"
     ]
    }
   ],
   "source": [
    "fruits.append(\"파인애플\")\n",
    "print(fruits)"
   ]
  },
  {
   "cell_type": "code",
   "execution_count": 50,
   "metadata": {},
   "outputs": [
    {
     "name": "stdout",
     "output_type": "stream",
     "text": [
      "아보카도\n",
      "사과\n",
      "딸기\n",
      "오렌지\n",
      "토마토\n",
      "파인애플\n"
     ]
    }
   ],
   "source": [
    "for fruit in fruits:\n",
    "    if fruit==\"복숭아\": continue\n",
    "    print(fruit)"
   ]
  },
  {
   "cell_type": "code",
   "execution_count": null,
   "metadata": {},
   "outputs": [],
   "source": []
  },
  {
   "cell_type": "code",
   "execution_count": null,
   "metadata": {},
   "outputs": [],
   "source": []
  },
  {
   "cell_type": "code",
   "execution_count": null,
   "metadata": {},
   "outputs": [],
   "source": []
  }
 ],
 "metadata": {
  "kernelspec": {
   "display_name": "Python 3",
   "language": "python",
   "name": "python3"
  },
  "language_info": {
   "codemirror_mode": {
    "name": "ipython",
    "version": 3
   },
   "file_extension": ".py",
   "mimetype": "text/x-python",
   "name": "python",
   "nbconvert_exporter": "python",
   "pygments_lexer": "ipython3",
   "version": "3.6.4"
  }
 },
 "nbformat": 4,
 "nbformat_minor": 2
}
